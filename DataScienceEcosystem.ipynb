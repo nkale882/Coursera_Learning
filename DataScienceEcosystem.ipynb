{
  "nbformat": 4,
  "nbformat_minor": 0,
  "metadata": {
    "colab": {
      "provenance": [],
      "authorship_tag": "ABX9TyO4M63dU9MWvfP1yhJ8wdK+"
    },
    "kernelspec": {
      "name": "python3",
      "display_name": "Python 3"
    },
    "language_info": {
      "name": "python"
    }
  },
  "cells": [
    {
      "cell_type": "markdown",
      "source": [
        "Data Science Tools and Ecosystem"
      ],
      "metadata": {
        "id": "x8mpXQC73z73"
      }
    },
    {
      "cell_type": "code",
      "source": [],
      "metadata": {
        "id": "GyiMSHZ-3_qR"
      },
      "execution_count": 1,
      "outputs": []
    },
    {
      "cell_type": "markdown",
      "source": [
        "In this notebook, Data Science Tools and Ecosystem are summarized."
      ],
      "metadata": {
        "id": "XtBhUnr94pQ6"
      }
    },
    {
      "cell_type": "markdown",
      "source": [
        "Some of the popular languages that Data Scientists use are:\n",
        "\n",
        "1. Python\n",
        "2. R\n",
        "3. Scala\n"
      ],
      "metadata": {
        "id": "fy_BTo844tUT"
      }
    },
    {
      "cell_type": "markdown",
      "source": [
        "**Objectives: to study the least popular languages of Data Science**\n",
        "\n",
        "\n",
        "\n",
        "*   Python\n",
        "*   R\n",
        "*   Scala\n",
        "\n"
      ],
      "metadata": {
        "id": "0SQxCXjC8F5B"
      }
    },
    {
      "cell_type": "code",
      "source": [],
      "metadata": {
        "id": "oy5qAT-I76vb"
      },
      "execution_count": null,
      "outputs": []
    },
    {
      "cell_type": "markdown",
      "source": [
        "Some of the commonly used libraries used by Data Scientists include:\n",
        "\n",
        "1. Pandas\n",
        "2. Numpy\n",
        "3. Seaborn\n",
        "4. matplotlib\n",
        "5. Scikit-Learn\n",
        "6. TensorFlow\n"
      ],
      "metadata": {
        "id": "zj8dvtSh5dKw"
      }
    },
    {
      "cell_type": "markdown",
      "source": [
        "Data Science Tools:\n",
        "\n",
        "\n",
        "1.   GitHub\n",
        "2.   Jupiter Notebook\n",
        "3.   R Studio\n",
        "\n"
      ],
      "metadata": {
        "id": "keO8oCbK56XQ"
      }
    },
    {
      "cell_type": "markdown",
      "source": [
        "Below are a few examples of evaluating arithmetic expressions in Python:\n",
        "**bold text**\n",
        "\n",
        "\n",
        "\n",
        "1.   Addition (a+b)\n",
        "2.   substraction (a-b)\n",
        "\n"
      ],
      "metadata": {
        "id": "Z-eKdVGO6d1U"
      }
    },
    {
      "cell_type": "code",
      "source": [
        "# This a simple arithmetic expression to mutiply then add integers.\n",
        "(3*4)+5"
      ],
      "metadata": {
        "colab": {
          "base_uri": "https://localhost:8080/",
          "height": 0
        },
        "id": "bNWpnE9q7JfD",
        "outputId": "0d244925-2205-49e0-980b-12f6092f5938"
      },
      "execution_count": 2,
      "outputs": [
        {
          "output_type": "execute_result",
          "data": {
            "text/plain": [
              "17"
            ]
          },
          "metadata": {},
          "execution_count": 2
        }
      ]
    },
    {
      "cell_type": "code",
      "source": [
        "# This will convert 200 minutes to hours by diving by 60.\n",
        "200/60"
      ],
      "metadata": {
        "colab": {
          "base_uri": "https://localhost:8080/",
          "height": 0
        },
        "id": "Gf4GQ-hu7Lj9",
        "outputId": "0a28ea59-754b-4c96-c36d-9a25c89e602e"
      },
      "execution_count": 4,
      "outputs": [
        {
          "output_type": "execute_result",
          "data": {
            "text/plain": [
              "3.3333333333333335"
            ]
          },
          "metadata": {},
          "execution_count": 4
        }
      ]
    },
    {
      "cell_type": "markdown",
      "source": [
        "**Author : Nilesh Kale**"
      ],
      "metadata": {
        "id": "7CtB6-0J8piO"
      }
    },
    {
      "cell_type": "code",
      "source": [],
      "metadata": {
        "id": "Zm1hdev07oWH"
      },
      "execution_count": null,
      "outputs": []
    }
  ]
}